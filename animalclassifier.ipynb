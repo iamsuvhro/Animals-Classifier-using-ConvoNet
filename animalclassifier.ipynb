{
  "nbformat": 4,
  "nbformat_minor": 0,
  "metadata": {
    "colab": {
      "name": "animalclassifier.ipynb",
      "version": "0.3.2",
      "provenance": [],
      "collapsed_sections": []
    },
    "kernelspec": {
      "name": "python3",
      "display_name": "Python 3"
    },
    "accelerator": "TPU"
  },
  "cells": [
    {
      "cell_type": "markdown",
      "metadata": {
        "id": "6p93W1AQd2pr",
        "colab_type": "text"
      },
      "source": [
        "# Animals Classifier using Deep Convolutional Neural Network\n",
        "<p> In this notebook you will see the all  process  for  building powerfull classifier. Here I'm using four multiple classes for making powerfull and complete Animal Classifier.</p>\n",
        "<br>\n",
        "<br>\n",
        "\n",
        "<center><img src=\"https://cdn.shopify.com/s/files/1/0942/4382/products/jigsaw-puzzle-99-funny-animals-1000-piece-jigsaw-puzzle-1.jpg?v=1524666861\" height=22% width=60%></center>\n",
        "\n",
        "\n",
        "## Dataset :\n",
        "\n",
        "Here in this project I am using an animals dataset  with three classes. In this dataset my goal is to  classify animals and predict the animal names. \n",
        "\n",
        "<b>Training Data<b><br>\n",
        "  Dog : 2000 Samples<br>\n",
        "  Bird:  2000 Samples<br>\n",
        "  Tiger:2000 Samples<br>\n",
        "\n",
        "\n",
        "## Convolutional Neural Network :\n",
        "\n",
        "In deep learning Convolutional Neural Network is a class of deep neural network, the term convolutional refers to the mathematical  combination of two functions to produce a third function. In case of a CNN the convolutional is performed  on the input data with the use of a filter or kernal to produce a feature map.\n",
        "\n",
        "<br><br>\n",
        "<center><img src=\"https://cdn-images-1.medium.com/max/1600/1*uAeANQIOQPqWZnnuH-VEyw.jpeg\" height=42%  width=60% /> <br>Reference : meduim</center>\n",
        "<br>\n",
        "Convolutional Neural Networks (CNNs / ConvNets) ... ConvNet architectures make the explicit assumption that the inputs are images, which allows us to encode certain properties into the architecture. These then make the forward function more efficient to implement and vastly reduce the amount of parameters in the network.\n",
        "\n",
        "\n",
        "\n",
        "  "
      ]
    },
    {
      "cell_type": "markdown",
      "metadata": {
        "id": "tsb_8iNdOBw0",
        "colab_type": "text"
      },
      "source": [
        "# Flickr api \n",
        "Here I am using flickr api for downloading Dataset. This Api program is written by <a href=\"https://github.com/saugatapaul1010/Building-extremely-powerful-object-recognizers-using-very-little-data/tree/master/Transfer%20Learning\">Sauagata Paul</a>"
      ]
    },
    {
      "cell_type": "code",
      "metadata": {
        "id": "ET7KuGfeOAYP",
        "colab_type": "code",
        "colab": {}
      },
      "source": [
        "from IPython.core.display import display, HTML\n",
        "display(HTML(\"<style>.container { width:100% !important; }</style>\"))\n",
        "from datetime import datetime as dt\n",
        "global_start = dt.now()\n",
        "\n",
        "\n",
        "import os\n",
        "cur_dir = os.getcwd()\n",
        "\n",
        "def get_images_train():\n",
        "    \n",
        "    #What categories of images you want to download?\n",
        "    #What's the total of images you want to download?\n",
        "    #Fraction of images you want for test data? (0 to 1)\n",
        "    \n",
        "    import flickrapi\n",
        "    import urllib.request as geturl\n",
        "    from PIL import Image\n",
        "    \n",
        "    category=input(\"What class of images?: \")\n",
        "    n=int(input(\"How many?: \"))\n",
        "            \n",
        "    #Creating the initial directory structures\n",
        "    import os\n",
        "    cur_dir = os.getcwd()\n",
        "    cat_name=cur_dir+'/train'+'/{}'.format(category)\n",
        "    if not os.path.isdir(cur_dir+'/train'):\n",
        "        os.mkdir(cur_dir+'/train')\n",
        "    else:\n",
        "        print(\"Flicker folder is already present.\")\n",
        "        cat_name=cur_dir+'/train'+'/{}'.format(category)\n",
        "        \n",
        "    if not os.path.isdir(cat_name):\n",
        "        os.mkdir(cat_name)\n",
        "    else:\n",
        "        print(\"{} folder is already present.\".format(category))\n",
        "\n",
        "    #Using the FlickrAPI key to access flicker \n",
        "    flickr=flickrapi.FlickrAPI('c6a2c45591d4973ff525042472446ca2', '202ffe6f387ce29b', cache=True)\n",
        "    keyword = category\n",
        "    photos = flickr.walk(text=keyword,tag_mode='all',tags=keyword,extras='url_c',per_page=100,sort='relevance')\n",
        "\n",
        "    #Build a list of valid URLS, we will use these URLs to retrieve images\n",
        "    url_lists = []\n",
        "    count=1\n",
        "    for i, photo in enumerate(photos):\n",
        "        url = photo.get('url_c')\n",
        "        if(url!=None):\n",
        "            url_lists.append(url)\n",
        "            count+=1\n",
        "\n",
        "        #Get 'n' valids URLS for 'n' images you want to download\n",
        "        if count > n:\n",
        "            break\n",
        "\n",
        "    #This block actually downloads all the 'n'  images belonging to 'keywords' category \n",
        "    print(\"Downloading {} images...\".format(category))\n",
        "    from tqdm import tqdm\n",
        "    i=1\n",
        "    for url in tqdm(url_lists):\n",
        "        folder = cat_name\n",
        "        geturl.urlretrieve(url, folder+'/{}{}.jpg'.format(category,i))\n",
        "        image = Image.open(folder+'/{}{}.jpg'.format(category,i)) \n",
        "        image = image.resize((256, 256), Image.ANTIALIAS)\n",
        "        image.save(folder+'/{}{}.jpg'.format(category,i))\n",
        "        i+=1\n",
        "\n",
        "    path = folder.split(\"/\")[-3:]\n",
        "    f_path=\"\"\n",
        "    for i in path:\n",
        "        f_path =f_path + \"/\" + i\n",
        "\n",
        "    print(\"{} training images of '{}' downloaded and saved in folder '{}'\".format(len(url_lists),category,f_path))\n"
      ],
      "execution_count": 0,
      "outputs": []
    },
    {
      "cell_type": "code",
      "metadata": {
        "id": "AwYaxppEXv_y",
        "colab_type": "code",
        "outputId": "40c443d9-6428-410a-d243-3a39b203b3c4",
        "colab": {
          "base_uri": "https://localhost:8080/",
          "height": 121
        }
      },
      "source": [
        "#downloading images using Flickr api \n",
        "get_images_train()"
      ],
      "execution_count": 0,
      "outputs": [
        {
          "output_type": "stream",
          "text": [
            "What class of images?: tiger\n",
            "How many?: 500\n",
            "Flicker folder is already present.\n"
          ],
          "name": "stdout"
        },
        {
          "output_type": "stream",
          "text": [
            "  0%|          | 1/500 [00:00<01:38,  5.09it/s]"
          ],
          "name": "stderr"
        },
        {
          "output_type": "stream",
          "text": [
            "Downloading tiger images...\n"
          ],
          "name": "stdout"
        },
        {
          "output_type": "stream",
          "text": [
            "100%|██████████| 500/500 [01:26<00:00,  5.48it/s]"
          ],
          "name": "stderr"
        },
        {
          "output_type": "stream",
          "text": [
            "500 training images of 'tiger' downloaded and saved in folder '/content/test/tiger'\n"
          ],
          "name": "stdout"
        },
        {
          "output_type": "stream",
          "text": [
            "\n"
          ],
          "name": "stderr"
        }
      ]
    },
    {
      "cell_type": "code",
      "metadata": {
        "id": "5-UcK32NdN3U",
        "colab_type": "code",
        "outputId": "7618176b-e495-44d2-855f-c671937e73ce",
        "colab": {
          "base_uri": "https://localhost:8080/",
          "height": 34
        }
      },
      "source": [
        "# Run this cell to mount your Google Drive.\n",
        "from google.colab import drive\n",
        "drive.mount('/content/drive')"
      ],
      "execution_count": 0,
      "outputs": [
        {
          "output_type": "stream",
          "text": [
            "Drive already mounted at /content/drive; to attempt to forcibly remount, call drive.mount(\"/content/drive\", force_remount=True).\n"
          ],
          "name": "stdout"
        }
      ]
    },
    {
      "cell_type": "code",
      "metadata": {
        "id": "lDr4JzpjMGb7",
        "colab_type": "code",
        "outputId": "91e1282e-ba13-4521-fe1d-4af709c0bda6",
        "colab": {
          "base_uri": "https://localhost:8080/",
          "height": 34
        }
      },
      "source": [
        "from IPython.core.display import display, HTML\n",
        "display(HTML(\"<style>.container { width:100% !important; }</style>\"))\n",
        "\n",
        "#imporitng libraries\n",
        "import keras\n",
        "from keras.datasets import mnist\n",
        "from keras.models import Sequential\n",
        "from keras.layers import Dense, Dropout, Flatten\n",
        "from keras.layers import Conv2D, MaxPooling2D, ZeroPadding2D, Convolution2D\n",
        "from keras.layers import Dropout\n",
        "from keras.layers.normalization import BatchNormalization\n",
        "from keras import optimizers\n",
        "import warnings\n",
        "warnings.filterwarnings(\"ignore\")"
      ],
      "execution_count": 0,
      "outputs": [
        {
          "output_type": "display_data",
          "data": {
            "text/html": [
              "<style>.container { width:100% !important; }</style>"
            ],
            "text/plain": [
              "<IPython.core.display.HTML object>"
            ]
          },
          "metadata": {
            "tags": []
          }
        },
        {
          "output_type": "stream",
          "text": [
            "Using TensorFlow backend.\n"
          ],
          "name": "stderr"
        }
      ]
    },
    {
      "cell_type": "markdown",
      "metadata": {
        "id": "TnLZEVSIHR19",
        "colab_type": "text"
      },
      "source": [
        "##  Importing Dataset "
      ]
    },
    {
      "cell_type": "code",
      "metadata": {
        "id": "Xi7paE70csAt",
        "colab_type": "code",
        "colab": {}
      },
      "source": [
        "#Declaration of parameters needed for training and validation\n",
        "train_data_dir =(\"/content/train\")\n",
        "test_data_dir =(\"/content/test\")\n"
      ],
      "execution_count": 0,
      "outputs": []
    },
    {
      "cell_type": "markdown",
      "metadata": {
        "id": "Md8QjffOHbhL",
        "colab_type": "text"
      },
      "source": [
        "##  Defining  Convolutional Neural Network Architecture\n",
        "\n",
        "*Here I am using  two  hidden layers for building  a perfect  animals classifier*"
      ]
    },
    {
      "cell_type": "code",
      "metadata": {
        "id": "4sPEgHuElnTu",
        "colab_type": "code",
        "outputId": "00b78ba5-dac6-409b-bd8f-32daa22bef0e",
        "colab": {
          "base_uri": "https://localhost:8080/",
          "height": 625
        }
      },
      "source": [
        "#Initialising the Input shape\n",
        "input_shape = (64,64,3)\n",
        "\n",
        "\n",
        "# Initialising the CNN\n",
        "model = Sequential()\n",
        "model.add(ZeroPadding2D((1,1), input_shape=input_shape))\n",
        "model.add(Convolution2D(filters=64, kernel_size=(3,3), activation='relu', kernel_initializer='he_normal'))\n",
        "\n",
        "#CNN Layer 2\n",
        "model.add(ZeroPadding2D((1,1)))\n",
        "model.add(Convolution2D(filters=64, kernel_size=(3,3), activation='relu', kernel_initializer='he_normal'))\n",
        "model.add(MaxPooling2D((2,2), strides=(2,2)))\n",
        "model.add(Dropout(0.4))\n",
        "\n",
        "#Flatten the output before feeding these to the fully connected Neurons                                    \n",
        "model.add(Flatten())\n",
        "\n",
        "#Fully connected Layers\n",
        "model.add(Dense(256, activation='relu', kernel_initializer='he_normal'))\n",
        "model.add(BatchNormalization())\n",
        "model.add(Dropout(0.5))\n",
        "\n",
        "model.add(Dense(128, activation='relu', kernel_initializer='he_normal'))\n",
        "model.add(BatchNormalization())\n",
        "model.add(Dropout(0.5))\n",
        "model.add(Dense(3, activation='softmax', kernel_initializer='he_normal'))\n",
        "\n",
        "\n",
        "#Compile the model\n",
        "\n",
        "adam=keras.optimizers.Adam(lr=0.001, beta_1=0.9, beta_2=0.999, epsilon=None, decay=0.0, amsgrad=False)\n",
        "model.compile(loss='categorical_crossentropy',optimizer=adam, metrics=['accuracy'])\n",
        "model.summary()"
      ],
      "execution_count": 0,
      "outputs": [
        {
          "output_type": "stream",
          "text": [
            "_________________________________________________________________\n",
            "Layer (type)                 Output Shape              Param #   \n",
            "=================================================================\n",
            "zero_padding2d_3 (ZeroPaddin (None, 66, 66, 3)         0         \n",
            "_________________________________________________________________\n",
            "conv2d_3 (Conv2D)            (None, 64, 64, 64)        1792      \n",
            "_________________________________________________________________\n",
            "zero_padding2d_4 (ZeroPaddin (None, 66, 66, 64)        0         \n",
            "_________________________________________________________________\n",
            "conv2d_4 (Conv2D)            (None, 64, 64, 64)        36928     \n",
            "_________________________________________________________________\n",
            "max_pooling2d_2 (MaxPooling2 (None, 32, 32, 64)        0         \n",
            "_________________________________________________________________\n",
            "dropout_4 (Dropout)          (None, 32, 32, 64)        0         \n",
            "_________________________________________________________________\n",
            "flatten_2 (Flatten)          (None, 65536)             0         \n",
            "_________________________________________________________________\n",
            "dense_4 (Dense)              (None, 256)               16777472  \n",
            "_________________________________________________________________\n",
            "batch_normalization_3 (Batch (None, 256)               1024      \n",
            "_________________________________________________________________\n",
            "dropout_5 (Dropout)          (None, 256)               0         \n",
            "_________________________________________________________________\n",
            "dense_5 (Dense)              (None, 128)               32896     \n",
            "_________________________________________________________________\n",
            "batch_normalization_4 (Batch (None, 128)               512       \n",
            "_________________________________________________________________\n",
            "dropout_6 (Dropout)          (None, 128)               0         \n",
            "_________________________________________________________________\n",
            "dense_6 (Dense)              (None, 3)                 387       \n",
            "=================================================================\n",
            "Total params: 16,851,011\n",
            "Trainable params: 16,850,243\n",
            "Non-trainable params: 768\n",
            "_________________________________________________________________\n"
          ],
          "name": "stdout"
        }
      ]
    },
    {
      "cell_type": "code",
      "metadata": {
        "id": "SgzZPKhgms1U",
        "colab_type": "code",
        "outputId": "76859e03-bca4-49a3-d846-8f0ef07fa4f4",
        "colab": {
          "base_uri": "https://localhost:8080/",
          "height": 399
        }
      },
      "source": [
        "# Part 2 - Fitting the CNN to the images\n",
        "\n",
        "from keras.preprocessing.image import ImageDataGenerator\n",
        "\n",
        "train_datagen = ImageDataGenerator(rescale = 1./255,\n",
        "                                   shear_range = 0.2,\n",
        "                                   zoom_range = 0.2,\n",
        "                                   horizontal_flip = True)\n",
        "\n",
        "test_datagen = ImageDataGenerator(rescale = 1./255)\n",
        "\n",
        "training_set = train_datagen.flow_from_directory(train_data_dir,\n",
        "                                                 target_size = (64, 64),\n",
        "                                                 batch_size = 128,\n",
        "                                                 class_mode = 'categorical')\n",
        "\n",
        "test_set = test_datagen.flow_from_directory(test_data_dir,\n",
        "                                            target_size = (64, 64),\n",
        "                                            batch_size = 64,\n",
        "                                            class_mode = 'categorical')\n",
        "\n",
        "history= model.fit_generator(training_set,\n",
        "                         steps_per_epoch =300,\n",
        "                         epochs = 10,\n",
        "                         validation_data = test_set,\n",
        "                         validation_steps = 70)\n",
        "\n",
        "from keras.models import load_model\n",
        "model.save(\"animalclassifier.h5\")"
      ],
      "execution_count": 20,
      "outputs": [
        {
          "output_type": "stream",
          "text": [
            "Found 6000 images belonging to 3 classes.\n",
            "Found 1500 images belonging to 3 classes.\n",
            "Epoch 1/10\n",
            "300/300 [==============================] - 1514s 5s/step - loss: 0.7862 - acc: 0.6881 - val_loss: 0.4477 - val_acc: 0.7945\n",
            "Epoch 2/10\n",
            "300/300 [==============================] - 1524s 5s/step - loss: 0.4237 - acc: 0.8329 - val_loss: 0.3538 - val_acc: 0.8632\n",
            "Epoch 3/10\n",
            "300/300 [==============================] - 1523s 5s/step - loss: 0.3295 - acc: 0.8712 - val_loss: 0.3747 - val_acc: 0.8468\n",
            "Epoch 4/10\n",
            "300/300 [==============================] - 1520s 5s/step - loss: 0.2680 - acc: 0.8970 - val_loss: 0.1811 - val_acc: 0.9282\n",
            "Epoch 5/10\n",
            "300/300 [==============================] - 1539s 5s/step - loss: 0.2208 - acc: 0.9149 - val_loss: 0.3432 - val_acc: 0.8607\n",
            "Epoch 6/10\n",
            "300/300 [==============================] - 1531s 5s/step - loss: 0.1912 - acc: 0.9292 - val_loss: 0.1774 - val_acc: 0.9387\n",
            "Epoch 7/10\n",
            "300/300 [==============================] - 1519s 5s/step - loss: 0.1652 - acc: 0.9382 - val_loss: 0.1665 - val_acc: 0.9309\n",
            "Epoch 8/10\n",
            "300/300 [==============================] - 1532s 5s/step - loss: 0.1463 - acc: 0.9458 - val_loss: 0.0674 - val_acc: 0.9790\n",
            "Epoch 9/10\n",
            "300/300 [==============================] - 1521s 5s/step - loss: 0.1346 - acc: 0.9505 - val_loss: 0.0841 - val_acc: 0.9694\n",
            "Epoch 10/10\n",
            "300/300 [==============================] - 1540s 5s/step - loss: 0.1194 - acc: 0.9560 - val_loss: 0.1466 - val_acc: 0.9504\n"
          ],
          "name": "stdout"
        }
      ]
    },
    {
      "cell_type": "markdown",
      "metadata": {
        "id": "cS4OzxR7bPzY",
        "colab_type": "text"
      },
      "source": [
        "# Predict classes"
      ]
    },
    {
      "cell_type": "code",
      "metadata": {
        "id": "clESJ3Y403DB",
        "colab_type": "code",
        "colab": {
          "base_uri": "https://localhost:8080/",
          "height": 34
        },
        "outputId": "cd3bbc1f-1b9e-433d-a527-8fd62628dc80"
      },
      "source": [
        "import numpy \n",
        "#model performance testing using test dataset\n",
        "test_data_path = \"/content/test\"\n",
        "test_generator = ImageDataGenerator()\n",
        "test_data_generator = test_generator.flow_from_directory(\n",
        "                                                test_data_path,\n",
        "                                                target_size=(64, 64),\n",
        "                                                batch_size=16,\n",
        "                                                shuffle=False)\n",
        "\n",
        "test_steps_per_epoch = numpy.math.ceil(test_data_generator.samples / test_data_generator.batch_size)\n",
        "\n",
        "pred = model.predict_generator(test_data_generator, steps=test_steps_per_epoch)\n",
        "# Get most likely class\n",
        "pred_classes = numpy.argmax(pred, axis=1)"
      ],
      "execution_count": 23,
      "outputs": [
        {
          "output_type": "stream",
          "text": [
            "Found 1500 images belonging to 3 classes.\n"
          ],
          "name": "stdout"
        }
      ]
    },
    {
      "cell_type": "markdown",
      "metadata": {
        "id": "Pmk1h9dSb87r",
        "colab_type": "text"
      },
      "source": [
        "# Classification Report"
      ]
    },
    {
      "cell_type": "code",
      "metadata": {
        "id": "QE65H6uPb_LO",
        "colab_type": "code",
        "colab": {
          "base_uri": "https://localhost:8080/",
          "height": 191
        },
        "outputId": "45539193-972c-4f0b-fe63-ef2763633fb4"
      },
      "source": [
        "from sklearn import metrics\n",
        "from sklearn.metrics import classification_report, confusion_matrix\n",
        "true_classes = test_data_generator.classes\n",
        "class_labels = list(test_data_generator.class_indices.keys())  \n",
        "\n",
        "report = metrics.classification_report(true_classes, pred_classes, target_names=class_labels)\n",
        "print(report)"
      ],
      "execution_count": 27,
      "outputs": [
        {
          "output_type": "stream",
          "text": [
            "              precision    recall  f1-score   support\n",
            "\n",
            "        bird       0.55      0.99      0.71       500\n",
            "         dog       0.99      0.48      0.65       500\n",
            "       tiger       0.94      0.68      0.79       500\n",
            "\n",
            "    accuracy                           0.72      1500\n",
            "   macro avg       0.83      0.72      0.71      1500\n",
            "weighted avg       0.83      0.72      0.71      1500\n",
            "\n"
          ],
          "name": "stdout"
        }
      ]
    },
    {
      "cell_type": "code",
      "metadata": {
        "id": "hHfAKGxaLXZ_",
        "colab_type": "code",
        "colab": {
          "base_uri": "https://localhost:8080/",
          "height": 283
        },
        "outputId": "50da50d7-eebb-4abb-c4f4-2ead447509a5"
      },
      "source": [
        "#This function is used to plot/update the train and test loss after each epoch.\n",
        "import matplotlib.pyplot as plt\n",
        "def plt_dynamic_loss(x, vy, ty, ax, colors=['b']):\n",
        "    ax.plot(x, vy, 'b', label=\"Validation Loss\")\n",
        "    ax.plot(x, ty, 'r', label=\"Train Loss\")\n",
        "    plt.legend()\n",
        "    plt.grid()\n",
        "    fig.canvas.draw()\n",
        "\n",
        "epochs=10\n",
        "#Get model history\n",
        "history=model.history\n",
        "\n",
        "#Plot train vs test loss\n",
        "fig,ax = plt.subplots(1,1)\n",
        "ax.set_xlabel('Epoch') ; ax.set_ylabel('Categorical Crossentropy Loss')\n",
        "\n",
        "#List of epoch numbers\n",
        "x = list(range(1,epochs+1))\n",
        "\n",
        "#Display the loss\n",
        "val_loss = history.history['val_loss'] #Validation Loss\n",
        "loss = history.history['loss'] #Training Loss\n",
        "plt_dynamic_loss(x, val_loss, loss, ax)"
      ],
      "execution_count": 43,
      "outputs": [
        {
          "output_type": "display_data",
          "data": {
            "image/png": "[encoded data removed]",
            "text/plain": [
              "<Figure size 432x288 with 1 Axes>"
            ]
          },
          "metadata": {
            "tags": []
          }
        }
      ]
    },
    {
      "cell_type": "code",
      "metadata": {
        "id": "PTD98dK-QD_1",
        "colab_type": "code",
        "colab": {}
      },
      "source": [
        ""
      ],
      "execution_count": 0,
      "outputs": []
    },
    {
      "cell_type": "markdown",
      "metadata": {
        "id": "uKik2Q_VQa0m",
        "colab_type": "text"
      },
      "source": [
        "So here is the result not too much better, this is a real world dataset which I download from flickr api so this is reason for bad result, Still I am working on it for getting more accuracy and good model "
      ]
    },
    {
      "cell_type": "code",
      "metadata": {
        "id": "Uvw2yKY5Q1Ty",
        "colab_type": "code",
        "colab": {}
      },
      "source": [
        ""
      ],
      "execution_count": 0,
      "outputs": []
    }
  ]
}